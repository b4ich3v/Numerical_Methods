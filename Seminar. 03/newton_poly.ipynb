{
 "cells": [
  {
   "cell_type": "code",
   "execution_count": 11,
   "id": "bd93c544-e0d2-4334-b5ab-a509edd9431b",
   "metadata": {},
   "outputs": [],
   "source": [
    "import numpy as np\n",
    "import matplotlib.pyplot as plt"
   ]
  },
  {
   "cell_type": "code",
   "execution_count": 13,
   "id": "ed079201-cd49-4623-986c-e5614ea4f4f2",
   "metadata": {},
   "outputs": [],
   "source": [
    "def newton_poly(nodes, values, x):\n",
    "    poly = 0\n",
    "    product = 1\n",
    "    for i in range(nodes.size):\n",
    "        poly += divided_difference(nodes[:i + 1],values[:i + 1]) * product\n",
    "        product *= (x - nodes[i])\n",
    "    return poly"
   ]
  }
 ],
 "metadata": {
  "kernelspec": {
   "display_name": "Python 3 (ipykernel)",
   "language": "python",
   "name": "python3"
  },
  "language_info": {
   "codemirror_mode": {
    "name": "ipython",
    "version": 3
   },
   "file_extension": ".py",
   "mimetype": "text/x-python",
   "name": "python",
   "nbconvert_exporter": "python",
   "pygments_lexer": "ipython3",
   "version": "3.12.7"
  }
 },
 "nbformat": 4,
 "nbformat_minor": 5
}
