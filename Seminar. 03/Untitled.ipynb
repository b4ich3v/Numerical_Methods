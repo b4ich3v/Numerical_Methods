{
 "cells": [
  {
   "cell_type": "code",
   "execution_count": 11,
   "id": "bd93c544-e0d2-4334-b5ab-a509edd9431b",
   "metadata": {},
   "outputs": [],
   "source": [
    "import numpy as np\n",
    "import matplotlib.pyplot as plt"
   ]
  },
  {
   "cell_type": "code",
   "execution_count": 12,
   "id": "ed079201-cd49-4623-986c-e5614ea4f4f2",
   "metadata": {},
   "outputs": [],
   "source": [
    "def divided_difference(nodes, values):\n",
    "    if(nodes.size == 1):\n",
    "        return values[0]\n",
    "    else:\n",
    "        return (divided_difference(nodes[1 : ], values[1 : ]) - divided_difference(nodes[ : -1],values[ : -1])) / (nodes[-1] - nodes[0])"
   ]
  }
 ],
 "metadata": {
  "kernelspec": {
   "display_name": "Python 3 (ipykernel)",
   "language": "python",
   "name": "python3"
  },
  "language_info": {
   "codemirror_mode": {
    "name": "ipython",
    "version": 3
   },
   "file_extension": ".py",
   "mimetype": "text/x-python",
   "name": "python",
   "nbconvert_exporter": "python",
   "pygments_lexer": "ipython3",
   "version": "3.12.7"
  }
 },
 "nbformat": 4,
 "nbformat_minor": 5
}
