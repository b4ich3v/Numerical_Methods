{
 "cells": [
  {
   "cell_type": "code",
   "execution_count": 45,
   "id": "d47980e8-2627-4475-b30a-457685c3abe1",
   "metadata": {},
   "outputs": [],
   "source": [
    "import numpy as np\n",
    "from numpy import pi\n",
    "import matplotlib.pyplot as plt\n",
    "from sympy import Eq, integrate, symbols, solve, diff, log, expand"
   ]
  },
  {
   "cell_type": "code",
   "execution_count": 50,
   "id": "72391e47-bbab-4cc4-855b-2b3460172b94",
   "metadata": {},
   "outputs": [
    {
     "name": "stdout",
     "output_type": "stream",
     "text": [
      "1.9333904692642978\n"
     ]
    }
   ],
   "source": [
    "# task1\n",
    "def func(x):\n",
    "    return np.exp(x) * np.cos(x)\n",
    "\n",
    "# В този пример е безсмислено, тъй като са ни дадени на готово и също знаем, че сме в интервал (-1,1), тоест няма нужда от смяна\n",
    "x, A1, x1, A2, x2, A3, x3 = symbols('x, A1, x1, A2, x2, A3, x3')\n",
    "eq1 = Eq(A1 + A2 + A3, integrate(1,(x, -1, 1)))\n",
    "eq2 = Eq(A1*x1 + A2*x2 + A3*x3, integrate(x,(x, -1, 1)))\n",
    "eq3 = Eq(A1*x1**2 + A2*x2**2 + A3*x3**2, integrate(x**2,(x, -1, 1)))\n",
    "eq4 = Eq(A1*x1**3 + A2*x2**3 + A3*x3**3, integrate(x**3,(x, -1, 1)))\n",
    "eq5 = Eq(A1*x1**4 + A2*x2**4 + A3*x3**4, integrate(x**4,(x, -1, 1)))\n",
    "eq6 = Eq(A1*x1**5 + A2*x2**5 + A3*x3**5, integrate(x**5,(x, -1, 1)))\n",
    "solutions = solve([eq1, eq2, eq3, eq4, eq5, eq6])\n",
    "\n",
    "x1_real = -np.sqrt(3 / 5)\n",
    "x2_real = 0\n",
    "x3_real = np.sqrt(3 / 5)\n",
    "\n",
    "A1_real = 5 / 9\n",
    "A2_real = 8 / 9\n",
    "A3_real = 5 / 9\n",
    "\n",
    "# АСТ е равно на брой \"коефиценти\" * 2 - 1, в случая е 2 * 3 - 1 = 5\n",
    "result = A1_real * func(x1_real) + A2_real * func(x2_real) + A3_real * func(x3_real)\n",
    "print(result)"
   ]
  },
  {
   "cell_type": "code",
   "execution_count": 52,
   "id": "b3f32f23-3301-4eac-89a2-67abd0565aec",
   "metadata": {},
   "outputs": [
    {
     "name": "stdout",
     "output_type": "stream",
     "text": [
      "0.6867561882552315\n"
     ]
    }
   ],
   "source": [
    "# task2\n",
    "nodes1 = [0, pi / 4, pi / 2, 3 * pi / 4, pi]\n",
    "\n",
    "def func(x):\n",
    "    if x == 0:\n",
    "        return 1.0000\n",
    "    elif x == pi / 4:\n",
    "        return 0.3431\n",
    "    elif x == pi / 2:\n",
    "        return 0.2500\n",
    "    elif x == 3 * pi / 4:\n",
    "        return 0.3431\n",
    "    else:\n",
    "        return 1.000 \n",
    "\n",
    "def trapezoid_formula(a, b, f, nodes, n):\n",
    "    result = 0\n",
    "\n",
    "    for i in range(1, n + 1):\n",
    "        result += (f(nodes[i - 1]) + f(nodes[i]))\n",
    "        result *= (b - a) / (2 * n)\n",
    "    return result\n",
    "\n",
    "n = 4\n",
    "result = trapezoid_formula(0, pi, func, nodes1, n)\n",
    "print(result)"
   ]
  },
  {
   "cell_type": "code",
   "execution_count": 53,
   "id": "4a9e4f8c-2644-4f44-8d96-9539400956c7",
   "metadata": {},
   "outputs": [
    {
     "data": {
      "image/png": "[encoded data removed]",
      "text/plain": [
       "<Figure size 640x480 with 1 Axes>"
      ]
     },
     "metadata": {},
     "output_type": "display_data"
    }
   ],
   "source": [
    "#task3\n",
    "nodes2 = [0.75, 2, 3, 4, 6, 8, 8.5]\n",
    "values = [1.2, 1.95, 2, 2.4, 2.4, 2.7, 2.6]\n",
    "\n",
    "alfa, B = symbols(\"alfa B\", real = True)\n",
    "expression = 0\n",
    "\n",
    "for x, y in zip(nodes2, values):\n",
    "    expression += (log(y) - (alfa + B * log(x))) ** 2\n",
    "\n",
    "def original_func(c, d, x):\n",
    "    return c * x ** d\n",
    "\n",
    "solutions = solve([Eq(diff(expression, alfa), 0), Eq(diff(expression, B), 0)], [alfa, B], dict = True)\n",
    "alfa_sol = solutions[0][alfa]\n",
    "B_sol = solutions[0][B]\n",
    "\n",
    "c_sol = np.exp(float(alfa_sol))\n",
    "d_sol = float(B_sol)\n",
    "\n",
    "x_range = np.linspace(min(nodes2), max(nodes2), 1000)\n",
    "plt.scatter(nodes2, values)\n",
    "plt.plot(x_range, original_func(c_sol, d_sol, x_range), \"red\")\n",
    "plt.show()"
   ]
  }
 ],
 "metadata": {
  "kernelspec": {
   "display_name": "Python 3 (ipykernel)",
   "language": "python",
   "name": "python3"
  },
  "language_info": {
   "codemirror_mode": {
    "name": "ipython",
    "version": 3
   },
   "file_extension": ".py",
   "mimetype": "text/x-python",
   "name": "python",
   "nbconvert_exporter": "python",
   "pygments_lexer": "ipython3",
   "version": "3.12.6"
  }
 },
 "nbformat": 4,
 "nbformat_minor": 5
}
