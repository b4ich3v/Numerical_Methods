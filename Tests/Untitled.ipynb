{
 "cells": [
  {
   "cell_type": "code",
   "execution_count": 7,
   "id": "3488cc44-6de1-48de-be17-49b7a344dd92",
   "metadata": {},
   "outputs": [],
   "source": [
    "import numpy as np\n",
    "import matplotlib.pyplot as plt"
   ]
  },
  {
   "cell_type": "code",
   "execution_count": 8,
   "id": "6fc6b59c-6c3c-4909-907f-c189bd5646b8",
   "metadata": {},
   "outputs": [],
   "source": [
    "example = 8\n",
    "period = (2 * np.pi) / example"
   ]
  },
  {
   "cell_type": "code",
   "execution_count": 11,
   "id": "281499a6-5415-4c30-9dcf-14062dff574d",
   "metadata": {},
   "outputs": [],
   "source": [
    "def create_matrix(nodes):\n",
    "    matrix = []\n",
    "\n",
    "    for node in nodes:\n",
    "        row = [1]\n",
    "        for i in range(1, len(nodes)):\n",
    "            if i % 2 == 1:\n",
    "                row.append(np.cos((i // 2 + 1) * period * node))\n",
    "            else:\n",
    "                row.append(np.sin((i // 2) * period * node))\n",
    "        matrix.append(row)\n",
    "    return matrix\n",
    "\n",
    "def calc(coef, x):\n",
    "    result = coef[0]\n",
    "    product = 1\n",
    "\n",
    "    for i in range(1, len(coef)):\n",
    "        if i % 2 == 1:\n",
    "            result += coef[i] * np.cos(product * x * period)\n",
    "        else:\n",
    "            result += coef[i] * np.sin(product * x * period)\n",
    "            product += 1\n",
    "    return result"
   ]
  },
  {
   "cell_type": "code",
   "execution_count": 10,
   "id": "7bb084e5-fea5-4c81-9650-8ed753138c6e",
   "metadata": {},
   "outputs": [],
   "source": [
    "#coef = np.linalg.solve(create_matrix(nodes), values)"
   ]
  }
 ],
 "metadata": {
  "kernelspec": {
   "display_name": "Python 3 (ipykernel)",
   "language": "python",
   "name": "python3"
  },
  "language_info": {
   "codemirror_mode": {
    "name": "ipython",
    "version": 3
   },
   "file_extension": ".py",
   "mimetype": "text/x-python",
   "name": "python",
   "nbconvert_exporter": "python",
   "pygments_lexer": "ipython3",
   "version": "3.12.7"
  }
 },
 "nbformat": 4,
 "nbformat_minor": 5
}
