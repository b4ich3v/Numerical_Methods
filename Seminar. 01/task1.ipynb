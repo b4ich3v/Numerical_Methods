{
 "cells": [
  {
   "cell_type": "code",
   "execution_count": 1,
   "id": "2aceaee9-54ed-4d7a-8c7b-1a440f07067f",
   "metadata": {},
   "outputs": [],
   "source": [
    "import math\n",
    "import numpy as np\n",
    "import matplotlib.pyplot as plt"
   ]
  },
  {
   "cell_type": "code",
   "execution_count": 3,
   "id": "b1cc95f8-25e6-4fa0-a0f2-1427bce69854",
   "metadata": {},
   "outputs": [],
   "source": [
    "def g(x):\n",
    "    return math.e ** x"
   ]
  },
  {
   "cell_type": "code",
   "execution_count": 4,
   "id": "b1232ee1-72fd-462f-84a1-1659bc598394",
   "metadata": {},
   "outputs": [],
   "source": [
    "def f(x):\n",
    "    return 1 + x + 0.5 * x**2 + 0.1667 * x**3"
   ]
  },
  {
   "cell_type": "code",
   "execution_count": null,
   "id": "40f67034-c332-41cb-a28b-af12508b006f",
   "metadata": {},
   "outputs": [],
   "source": [
    "x_axis = np.linspace(-0.5,0)"
   ]
  }
 ],
 "metadata": {
  "kernelspec": {
   "display_name": "Python 3 (ipykernel)",
   "language": "python",
   "name": "python3"
  },
  "language_info": {
   "codemirror_mode": {
    "name": "ipython",
    "version": 3
   },
   "file_extension": ".py",
   "mimetype": "text/x-python",
   "name": "python",
   "nbconvert_exporter": "python",
   "pygments_lexer": "ipython3",
   "version": "3.12.7"
  }
 },
 "nbformat": 4,
 "nbformat_minor": 5
}
