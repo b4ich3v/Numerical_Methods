{
 "cells": [
  {
   "cell_type": "code",
   "execution_count": 1,
   "id": "e6a3ea95-a9de-4e93-84ce-742557e037b3",
   "metadata": {},
   "outputs": [],
   "source": [
    "import numpy as np\n",
    "import matplotlib.pyplot as plt"
   ]
  },
  {
   "cell_type": "code",
   "execution_count": 2,
   "id": "30b7a651-2b58-41c6-85c1-5fd6256829e2",
   "metadata": {},
   "outputs": [],
   "source": [
    "def create_matrix(nodes):\n",
    "    matrix = []\n",
    "\n",
    "    for node in nodes:\n",
    "        row = []\n",
    "        for i in range(len(nodes)):\n",
    "            row.append(np.e ** (i * node))\n",
    "        matrix.append(row)\n",
    "    return matrix\n",
    "\n",
    "def calc(coef, x):\n",
    "    result = 0\n",
    "\n",
    "    for i in range(len(coef)):\n",
    "        result += coef[i] * (np.e ** (i * x))\n",
    "    return result"
   ]
  },
  {
   "cell_type": "code",
   "execution_count": 3,
   "id": "ba095ba4-a74e-4d06-8d42-ca86b14214a3",
   "metadata": {},
   "outputs": [],
   "source": [
    "# coef = np.linalg.solve(create_matrix(nodes), values)"
   ]
  }
 ],
 "metadata": {
  "kernelspec": {
   "display_name": "Python 3 (ipykernel)",
   "language": "python",
   "name": "python3"
  },
  "language_info": {
   "codemirror_mode": {
    "name": "ipython",
    "version": 3
   },
   "file_extension": ".py",
   "mimetype": "text/x-python",
   "name": "python",
   "nbconvert_exporter": "python",
   "pygments_lexer": "ipython3",
   "version": "3.12.7"
  }
 },
 "nbformat": 4,
 "nbformat_minor": 5
}
