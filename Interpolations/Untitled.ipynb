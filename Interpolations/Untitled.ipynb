{
 "cells": [
  {
   "cell_type": "code",
   "execution_count": 4,
   "id": "3488cc44-6de1-48de-be17-49b7a344dd92",
   "metadata": {},
   "outputs": [],
   "source": [
    "import numpy as np\n",
    "import matplotlib.pyplot as plt"
   ]
  },
  {
   "cell_type": "code",
   "execution_count": 5,
   "id": "126ab1e1-f559-4e84-9dcc-37ef1f27f9dd",
   "metadata": {},
   "outputs": [],
   "source": [
    "def create_matrix(nodes):\n",
    "    matrix = []\n",
    "\n",
    "    for node in nodes:\n",
    "        row = [1]\n",
    "        for i in range(1, len(nodes)):\n",
    "            if i % 2 == 1:\n",
    "                row.append(np.cos((i // 2 + 1) * node))\n",
    "            else:\n",
    "                row.append(np.sin((i // 2) * node))\n",
    "        matrix.append(row)\n",
    "    return matrix\n",
    "\n",
    "def calc(coef, x):\n",
    "    result = 0\n",
    "    product = 1\n",
    "\n",
    "    for i in range(1, len(coef)):\n",
    "        if i % 2 == 1:\n",
    "            result += coef[i] * np.cos(product * x)\n",
    "        else:\n",
    "            result += coef[i] * np.sin(product * x)\n",
    "            product += 1\n",
    "    return result"
   ]
  },
  {
   "cell_type": "code",
   "execution_count": 6,
   "id": "6282d5e2-9a3f-48a4-a87b-4bcbdca82fad",
   "metadata": {},
   "outputs": [],
   "source": [
    "#coef = np.linalg.solve(create_matrix(nodes), values)"
   ]
  }
 ],
 "metadata": {
  "kernelspec": {
   "display_name": "Python 3 (ipykernel)",
   "language": "python",
   "name": "python3"
  },
  "language_info": {
   "codemirror_mode": {
    "name": "ipython",
    "version": 3
   },
   "file_extension": ".py",
   "mimetype": "text/x-python",
   "name": "python",
   "nbconvert_exporter": "python",
   "pygments_lexer": "ipython3",
   "version": "3.12.7"
  }
 },
 "nbformat": 4,
 "nbformat_minor": 5
}
