{
 "cells": [
  {
   "cell_type": "code",
   "execution_count": 5,
   "id": "3e8ebada-26a0-4026-845d-2064da48785a",
   "metadata": {},
   "outputs": [],
   "source": [
    "def diff(nodes, values, l, r):\n",
    "    if nodes[l] == nodes[r]: \n",
    "        return values[l] / math.factorial(r - l)\n",
    "    return (diff(nodes, values, l + 1, r) - diff(nodes, values, l, r - 1)) / (nodes[r] - nodes[l])\n",
    "\n",
    "def hermit(nodes, values, x):\n",
    "    result = 0\n",
    "    product = 1\n",
    "\n",
    "    for i in range(len(values)):\n",
    "        curr = diff(nodes, values, 0, i) * product\n",
    "        result += curr\n",
    "        product *= (x - nodes[i])\n",
    "    return result"
   ]
  }
 ],
 "metadata": {
  "kernelspec": {
   "display_name": "Python 3 (ipykernel)",
   "language": "python",
   "name": "python3"
  },
  "language_info": {
   "codemirror_mode": {
    "name": "ipython",
    "version": 3
   },
   "file_extension": ".py",
   "mimetype": "text/x-python",
   "name": "python",
   "nbconvert_exporter": "python",
   "pygments_lexer": "ipython3",
   "version": "3.12.7"
  }
 },
 "nbformat": 4,
 "nbformat_minor": 5
}
