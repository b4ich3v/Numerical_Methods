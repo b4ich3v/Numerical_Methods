{
 "cells": [
  {
   "cell_type": "code",
   "execution_count": 3,
   "id": "3e8ebada-26a0-4026-845d-2064da48785a",
   "metadata": {},
   "outputs": [],
   "source": [
    "def lagrange(nodes, values, x):\n",
    "    result = 0\n",
    "\n",
    "    for i in range(len(nodes)):\n",
    "        term = values[i]\n",
    "        for j in range(len(nodes)):\n",
    "            if i != j:\n",
    "                term *= (x - nodes[j]) / (nodes[i] - nodes[j])\n",
    "        result += term\n",
    "    return result\n"
   ]
  }
 ],
 "metadata": {
  "kernelspec": {
   "display_name": "Python 3 (ipykernel)",
   "language": "python",
   "name": "python3"
  },
  "language_info": {
   "codemirror_mode": {
    "name": "ipython",
    "version": 3
   },
   "file_extension": ".py",
   "mimetype": "text/x-python",
   "name": "python",
   "nbconvert_exporter": "python",
   "pygments_lexer": "ipython3",
   "version": "3.12.7"
  }
 },
 "nbformat": 4,
 "nbformat_minor": 5
}
