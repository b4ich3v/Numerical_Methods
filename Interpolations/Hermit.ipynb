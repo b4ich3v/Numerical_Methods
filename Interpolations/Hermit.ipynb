{
 "cells": [
  {
   "cell_type": "code",
   "execution_count": 1,
   "id": "fcf889c5-47b6-4eb5-970b-d37fd24c889a",
   "metadata": {},
   "outputs": [],
   "source": [
    "import math\n",
    "\n",
    "def diff(nodes, values, left, right):\n",
    "    if nodes[left] == nodes[right]: \n",
    "        return values[left] / math.factorial(right - left)\n",
    "    return (diff(nodes, values, left + 1, right) - diff(nodes, values, left, right - 1)) / (nodes[right] - nodes[left])\n",
    "\n",
    "def hermit(nodes, values, x):\n",
    "    result = 0\n",
    "    product = 1\n",
    "\n",
    "    for i in range(len(values)):\n",
    "        result += diff(nodes, values, 0, i) * product\n",
    "        product *= (x - nodes[i])\n",
    "    return result"
   ]
  }
 ],
 "metadata": {
  "kernelspec": {
   "display_name": "Python 3 (ipykernel)",
   "language": "python",
   "name": "python3"
  },
  "language_info": {
   "codemirror_mode": {
    "name": "ipython",
    "version": 3
   },
   "file_extension": ".py",
   "mimetype": "text/x-python",
   "name": "python",
   "nbconvert_exporter": "python",
   "pygments_lexer": "ipython3",
   "version": "3.12.7"
  }
 },
 "nbformat": 4,
 "nbformat_minor": 5
}
