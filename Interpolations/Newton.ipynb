{
 "cells": [
  {
   "cell_type": "code",
   "execution_count": 2,
   "id": "fcf889c5-47b6-4eb5-970b-d37fd24c889a",
   "metadata": {},
   "outputs": [],
   "source": [
    "def diff(nodes, values):\n",
    "    if len(nodes) == 1:\n",
    "        return values[0]\n",
    "    else:\n",
    "        return (diff(nodes[1:], values[1:]) - diff(nodes[:-1], values[:-1])) / (nodes[-1] - nodes[0])\n",
    "    \n",
    "def newton(nodes, values, x):\n",
    "    result = 0\n",
    "    product = 1\n",
    "\n",
    "    for i in range(len(nodes)):\n",
    "        result += diff(nodes[:i+1], values[:i+1]) * product\n",
    "        product *= (x - nodes[i])\n",
    "    return result"
   ]
  }
 ],
 "metadata": {
  "kernelspec": {
   "display_name": "Python 3 (ipykernel)",
   "language": "python",
   "name": "python3"
  },
  "language_info": {
   "codemirror_mode": {
    "name": "ipython",
    "version": 3
   },
   "file_extension": ".py",
   "mimetype": "text/x-python",
   "name": "python",
   "nbconvert_exporter": "python",
   "pygments_lexer": "ipython3",
   "version": "3.12.7"
  }
 },
 "nbformat": 4,
 "nbformat_minor": 5
}
