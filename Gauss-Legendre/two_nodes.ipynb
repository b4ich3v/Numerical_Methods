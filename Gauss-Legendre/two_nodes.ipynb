{
 "cells": [
  {
   "cell_type": "code",
   "execution_count": 5,
   "id": "5c567a11-c40a-41e9-acba-d7b8a6568fe8",
   "metadata": {},
   "outputs": [
    {
     "data": {
      "text/plain": [
       "[{A1: 1, A2: 1, x1: -sqrt(3)/3, x2: sqrt(3)/3},\n",
       " {A1: 1, A2: 1, x1: sqrt(3)/3, x2: -sqrt(3)/3}]"
      ]
     },
     "execution_count": 5,
     "metadata": {},
     "output_type": "execute_result"
    }
   ],
   "source": [
    "from sympy import Eq, integrate, symbols, solve, pi, diff\n",
    "\n",
    "x, A1, x1, A2, x2 = symbols('x A1 x1 A2 x2')\n",
    "eq1 = Eq(A1 + A2 , integrate(1, (x, -1, 1)))\n",
    "eq2 = Eq(A1 * x1 + A2 * x2, integrate(x, (x, -1, 1)))\n",
    "eq3 = Eq(A1 * x1**2 + A2 * x2**2, integrate(x**2, (x, -1, 1)))\n",
    "eq4 = Eq(A1 * x1**3 + A2 * x2**3, integrate(x**3, (x, -1, 1)))\n",
    "solutions = solve([eq1, eq2, eq3, eq4])\n",
    "solutions"
   ]
  }
 ],
 "metadata": {
  "kernelspec": {
   "display_name": "Python 3 (ipykernel)",
   "language": "python",
   "name": "python3"
  },
  "language_info": {
   "codemirror_mode": {
    "name": "ipython",
    "version": 3
   },
   "file_extension": ".py",
   "mimetype": "text/x-python",
   "name": "python",
   "nbconvert_exporter": "python",
   "pygments_lexer": "ipython3",
   "version": "3.12.7"
  }
 },
 "nbformat": 4,
 "nbformat_minor": 5
}
