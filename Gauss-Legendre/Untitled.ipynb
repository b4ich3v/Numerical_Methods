{
 "cells": [
  {
   "cell_type": "code",
   "execution_count": 6,
   "id": "5c567a11-c40a-41e9-acba-d7b8a6568fe8",
   "metadata": {},
   "outputs": [
    {
     "data": {
      "text/plain": [
       "[{A1: 5/9, A2: 5/9, A3: 8/9, x1: -sqrt(15)/5, x2: sqrt(15)/5, x3: 0},\n",
       " {A1: 5/9, A2: 5/9, A3: 8/9, x1: sqrt(15)/5, x2: -sqrt(15)/5, x3: 0},\n",
       " {A1: 5/9, A2: 8/9, A3: 5/9, x1: -sqrt(15)/5, x2: 0, x3: sqrt(15)/5},\n",
       " {A1: 5/9, A2: 8/9, A3: 5/9, x1: sqrt(15)/5, x2: 0, x3: -sqrt(15)/5},\n",
       " {A1: 8/9, A2: 5/9, A3: 5/9, x1: 0, x2: -sqrt(15)/5, x3: sqrt(15)/5},\n",
       " {A1: 8/9, A2: 5/9, A3: 5/9, x1: 0, x2: sqrt(15)/5, x3: -sqrt(15)/5}]"
      ]
     },
     "execution_count": 6,
     "metadata": {},
     "output_type": "execute_result"
    }
   ],
   "source": [
    "from sympy import Eq, integrate, symbols, solve, pi, diff\n",
    "\n",
    "x, A1, x1, A2, x2, A3, x3 = symbols('x, A1, x1, A2, x2, A3, x3')\n",
    "eq1 = Eq(A1 + A2 + A3, integrate(1,(x, -1, 1)))\n",
    "eq2 = Eq(A1*x1 + A2*x2 + A3*x3, integrate(x,(x, -1, 1)))\n",
    "eq3 = Eq(A1*x1**2 + A2*x2**2 + A3*x3**2, integrate(x**2,(x, -1, 1)))\n",
    "eq4 = Eq(A1*x1**3 + A2*x2**3 + A3*x3**3, integrate(x**3,(x, -1, 1)))\n",
    "eq5 = Eq(A1*x1**4 + A2*x2**4 + A3*x3**4, integrate(x**4,(x, -1, 1)))\n",
    "eq6 = Eq(A1*x1**5 + A2*x2**5 + A3*x3**5, integrate(x**5,(x, -1, 1)))\n",
    "solutions = solve([eq1, eq2, eq3, eq4, eq5, eq6])\n",
    "solutions"
   ]
  }
 ],
 "metadata": {
  "kernelspec": {
   "display_name": "Python 3 (ipykernel)",
   "language": "python",
   "name": "python3"
  },
  "language_info": {
   "codemirror_mode": {
    "name": "ipython",
    "version": 3
   },
   "file_extension": ".py",
   "mimetype": "text/x-python",
   "name": "python",
   "nbconvert_exporter": "python",
   "pygments_lexer": "ipython3",
   "version": "3.12.7"
  }
 },
 "nbformat": 4,
 "nbformat_minor": 5
}
