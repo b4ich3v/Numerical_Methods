{
 "cells": [
  {
   "cell_type": "code",
   "execution_count": 3,
   "id": "5c567a11-c40a-41e9-acba-d7b8a6568fe8",
   "metadata": {},
   "outputs": [],
   "source": [
    "def rectangle_formula(a, b, f, nodes, n):\n",
    "    res = 0\n",
    "    for i in range(1, n + 1):\n",
    "        res += f((nodes[i-1] + nodes[i]) / 2)\n",
    "    res *= (b-a) / n\n",
    "    return res\n",
    "\n",
    "def trapezoid_formula(a, b, f, nodes, n):\n",
    "    res = 0\n",
    "    for i in range(1, n + 1):\n",
    "        res += (f(nodes[i-1]) + f(nodes[i]))\n",
    "    res *= (b-a) / (2*n)\n",
    "    return res\n",
    "\n",
    "def simpson_formula(a, b, f, nodes, n):\n",
    "    res = 0\n",
    "    for i in range(1, n + 1):\n",
    "        res += (f(nodes[i-1]) + 4*f((nodes[i-1] + nodes[i])/2) + f(nodes[i]))\n",
    "    res *= (b-a) / (6*n)\n",
    "    return res"
   ]
  }
 ],
 "metadata": {
  "kernelspec": {
   "display_name": "Python 3 (ipykernel)",
   "language": "python",
   "name": "python3"
  },
  "language_info": {
   "codemirror_mode": {
    "name": "ipython",
    "version": 3
   },
   "file_extension": ".py",
   "mimetype": "text/x-python",
   "name": "python",
   "nbconvert_exporter": "python",
   "pygments_lexer": "ipython3",
   "version": "3.12.7"
  }
 },
 "nbformat": 4,
 "nbformat_minor": 5
}
