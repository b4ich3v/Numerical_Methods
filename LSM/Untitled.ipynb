{
 "cells": [
  {
   "cell_type": "code",
   "execution_count": 2,
   "id": "5f72cbca-05e4-4721-b11a-fa37d6def12d",
   "metadata": {},
   "outputs": [],
   "source": [
    "def create_row(x, n, pow):\n",
    "    row = []\n",
    "    for i in range (0, n+1):\n",
    "        element = sum(x_node ** pow for x_node in x)\n",
    "        row.append(element)\n",
    "        pow+=1\n",
    "    return row\n",
    "    \n",
    "def create_matrix(x, n):\n",
    "    matrix = []\n",
    "    for i in range(0, n+1):\n",
    "        matrix.append(create_row(x, n, i))\n",
    "    return np.array(matrix)\n",
    "\n",
    "def create_vector(x, y, n):\n",
    "    vector = []\n",
    "    for i in range(0, n+1):\n",
    "        curr = sum(y_node * (x_node**i) for (x_node, y_node) in zip(x,y))\n",
    "        vector.append(curr)\n",
    "    return np.array(vector)\n",
    "\n",
    "def least_squares_matrix(x, y, n):\n",
    "    matrix = create_matrix(x, n)\n",
    "    vector = create_vector(x, y, n)\n",
    "    sol = np.linalg.solve(matrix, vector)\n",
    "    return sol"
   ]
  }
 ],
 "metadata": {
  "kernelspec": {
   "display_name": "Python 3 (ipykernel)",
   "language": "python",
   "name": "python3"
  },
  "language_info": {
   "codemirror_mode": {
    "name": "ipython",
    "version": 3
   },
   "file_extension": ".py",
   "mimetype": "text/x-python",
   "name": "python",
   "nbconvert_exporter": "python",
   "pygments_lexer": "ipython3",
   "version": "3.12.7"
  }
 },
 "nbformat": 4,
 "nbformat_minor": 5
}
