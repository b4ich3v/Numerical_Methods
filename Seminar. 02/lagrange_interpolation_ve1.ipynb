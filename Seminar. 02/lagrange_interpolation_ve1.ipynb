{
 "cells": [
  {
   "cell_type": "code",
   "execution_count": 13,
   "id": "20bdc97e-5580-45fe-907e-02055a21e71a",
   "metadata": {},
   "outputs": [],
   "source": [
    "import numpy as np\n",
    "import sympy as sp\n",
    "import math\n",
    "import matplotlib.pyplot as plt"
   ]
  },
  {
   "cell_type": "code",
   "execution_count": null,
   "id": "32bc4ac6-2116-4a81-9b02-bc2d3f72a478",
   "metadata": {},
   "outputs": [],
   "source": [
    "def random_function(x):\n",
    "    return x ** 2\n",
    "\n",
    "x_points = [1,2,3]\n",
    "y_points = [random_function(x) for x in x_points]\n",
    "\n",
    "def lagrange_interpolation(x_points, y_points, x):\n",
    "    result = 0\n",
    "\n",
    "    for i in range(len(x_points)):\n",
    "        term = y_points[i]\n",
    "        for j in range(len(x_points)):\n",
    "            if i != j:\n",
    "                term *= (x - x_points[j]) / (x_points[i] - x_points[j])\n",
    "        result += term\n",
    "    return result"
   ]
  }
 ],
 "metadata": {
  "kernelspec": {
   "display_name": "Python 3 (ipykernel)",
   "language": "python",
   "name": "python3"
  },
  "language_info": {
   "codemirror_mode": {
    "name": "ipython",
    "version": 3
   },
   "file_extension": ".py",
   "mimetype": "text/x-python",
   "name": "python",
   "nbconvert_exporter": "python",
   "pygments_lexer": "ipython3",
   "version": "3.12.7"
  }
 },
 "nbformat": 4,
 "nbformat_minor": 5
}
