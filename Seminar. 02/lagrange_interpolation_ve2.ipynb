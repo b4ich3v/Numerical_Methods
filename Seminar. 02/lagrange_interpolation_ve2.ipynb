{
 "cells": [
  {
   "cell_type": "code",
   "execution_count": 1,
   "id": "be1bd5cd-ad4d-47a7-8e1b-9be1bb4fae4f",
   "metadata": {},
   "outputs": [],
   "source": [
    "import numpy as np\n",
    "import sympy as sp\n",
    "import math\n",
    "import matplotlib.pyplot as plt"
   ]
  },
  {
   "cell_type": "code",
   "execution_count": 2,
   "id": "cfdc069d-90ca-4149-9ab2-fb98190bf8ce",
   "metadata": {},
   "outputs": [],
   "source": [
    "def random_function(x):\n",
    "    return x ** 2\n",
    "\n",
    "x_points = [1,2,3]\n",
    "y_points = [random_function(x) for x in x_points]\n",
    "x = sp.symbols('x')\n",
    "\n",
    "def lagrange_interpolation(x_points, y_points):\n",
    "    result = 0\n",
    "\n",
    "    for i in range(len(x_points)):\n",
    "        term = y_points[i]\n",
    "        for j in range(len(x_points)):\n",
    "            if i != j:\n",
    "                term *= (x - x_points[j]) / (x_points[i] - x_points[j])\n",
    "        result += term\n",
    "    return sp.simplify(result)"
   ]
  },
  {
   "cell_type": "code",
   "execution_count": null,
   "id": "daf5e419-a4e5-423d-b39e-82d69a56c61b",
   "metadata": {},
   "outputs": [],
   "source": []
  }
 ],
 "metadata": {
  "kernelspec": {
   "display_name": "Python 3 (ipykernel)",
   "language": "python",
   "name": "python3"
  },
  "language_info": {
   "codemirror_mode": {
    "name": "ipython",
    "version": 3
   },
   "file_extension": ".py",
   "mimetype": "text/x-python",
   "name": "python",
   "nbconvert_exporter": "python",
   "pygments_lexer": "ipython3",
   "version": "3.12.7"
  }
 },
 "nbformat": 4,
 "nbformat_minor": 5
}
